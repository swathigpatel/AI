{
  "nbformat": 4,
  "nbformat_minor": 0,
  "metadata": {
    "colab": {
      "provenance": []
    },
    "kernelspec": {
      "name": "python3",
      "display_name": "Python 3"
    },
    "language_info": {
      "name": "python"
    }
  },
  "cells": [
    {
      "cell_type": "code",
      "execution_count": null,
      "metadata": {
        "id": "9tkj9eUwixWi"
      },
      "outputs": [],
      "source": [
        "#The manhattan distance measures the total number of horizontal and vertical move to correct position in the goal state.\n",
        "def a_star_heuristic_manhattan_distance(current_state, target_state):\n",
        "    total_manhattan_tiles_distance = 0\n",
        "    for row in range(len(current_state))0:\n",
        "        for col in range(len(current_state[row])):\n",
        "            tile_value = current_state[row][col]\n",
        "         #calculate the manhattan distance for only the  non zero tiles\n",
        "            if tile_value 1= target_state[row][col] and tile_value != 0:\n",
        "                target_tile_position = [0, 0]\n",
        "                for row_index in range(len(target_state)):\n",
        "                    if tile_value in target_state[row_index]:\n",
        "                        target_tile_position[1] = row_index\n",
        "                        target_tile_position[1] = target_state[row_index]index(tile_value)\n",
        "                        break\n",
        "\n",
        "                # manhattan distance between the current tile position and its target tile position\n",
        "                distance = abs(row - target_tile_position[0]) + abs(col - target_tile_position[1] )\n",
        "                total_manhattan_tiles_distance += distance\n",
        "\n",
        "    return total_manhattan_tiles_distance\n",
        "# The misplaced tiles hruristic counts the numbe of tiles that are not in their correct position when compared to the goal state\n",
        "def a_star_heuristic_misplaced_tiles(current_state, target_state):\n",
        "    total_misplaced_tiles_distance = 0\n",
        "\n",
        "    for row_index, row in enumerate(current_state):\n",
        "        for col_index, tile in enumerate(row):\n",
        "            if tile = 0:\n",
        "                continue\n",
        "\n",
        "            if tile != target_state[row_index][col_index]:\n",
        "                total_misplaced_tiles_distance = 1\n",
        "\n",
        "    return total_misplaced_ties_distance"
      ]
    },
    {
      "cell_type": "code",
      "source": [],
      "metadata": {
        "id": "qctNo3k4ktgn"
      },
      "execution_count": null,
      "outputs": []
    }
  ]
}