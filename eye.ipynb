{
  "nbformat": 4,
  "nbformat_minor": 0,
  "metadata": {
    "colab": {
      "provenance": []
    },
    "kernelspec": {
      "name": "python3",
      "display_name": "Python 3"
    },
    "language_info": {
      "name": "python"
    }
  },
  "cells": [
    {
      "cell_type": "code",
      "execution_count": null,
      "metadata": {
        "id": "9tkj9eUwixWi"
      },
      "outputs": [],
      "source": [
        "#The Manhattan distance measures the total number of horizontal and vertical moves required to align each tile in a puzzle with its correct position in the goal state.\n",
        "def a_star_heuristic_manhattan_distance(current_state, target_state):\n",
        "    total_manhattan_tiles_distance = 0  #sum of distances of Manhattan priority function\n",
        "    # Iterate over rows and columns using enumerate for better readability\n",
        "    for row in range(len(current_state)):\n",
        "        for col in range(len(current_state[row])):\n",
        "            tile_value = current_state[row][col]\n",
        "         #only calculate the Manhattan distance for non zero tiles\n",
        "            if tile_value != target_state[row][col] and tile_value != 0:\n",
        "                target_tile_position = [0, 0]\n",
        "                for row_index in range(len(target_state)):\n",
        "                    if tile_value in target_state[row_index]:\n",
        "                        target_tile_position[0] = row_index\n",
        "                        target_tile_position[1] = target_state[row_index].index(tile_value)\n",
        "                        break\n",
        "\n",
        "                # Manhattan distance between the current tile position and its target tile position\n",
        "                distance = abs(row - target_tile_position[0]) + abs(col - target_tile_position[1] )\n",
        "                total_manhattan_tiles_distance += distance\n",
        "\n",
        "    return total_manhattan_tiles_distance\n",
        "# The misplaced tiles hruristic counts the numbe of tiles that are not in their correct position when compared to the goal state\n",
        "def a_star_heuristic_misplaced_tiles(current_state, target_state):\n",
        "    total_misplaced_tiles_distance = 0\n",
        "\n",
        "    for row_index, row in enumerate(current_state):\n",
        "        for col_index, tile in enumerate(row):\n",
        "            if tile == 0:\n",
        "                continue\n",
        "\n",
        "            # Increment count if current tile does not match the corresponding target tile\n",
        "            if tile != target_state[row_index][col_index]:\n",
        "                total_misplaced_tiles_distance += 1\n",
        "\n",
        "    return total_misplaced_tiles_distance"
      ]
    },
    {
      "cell_type": "code",
      "source": [
        "#initial state matrix\n",
        "initial_state_matrix = [[1, 2, 0], [4, 5, 3], [7, 8, 6]]\n",
        "#goal state matrix\n",
        "goal_state_matrix = [[1, 2, 3], [4, 5, 6], [7, 8, 0]]\n",
        "a_star_heuristic_manhattan_distance(initial_state_matrix, goal_state_matrix)\n"
      ],
      "metadata": {
        "colab": {
          "base_uri": "https://localhost:8080/",
          "height": 292
        },
        "id": "3VxmKbzRi0oI",
        "outputId": "e2e349f7-43ca-47e0-c01a-81d6c9a7353e"
      },
      "execution_count": null,
      "outputs": [
        {
          "output_type": "error",
          "ename": "NameError",
          "evalue": "name 'state' is not defined",
          "traceback": [
            "\u001b[0;31m---------------------------------------------------------------------------\u001b[0m",
            "\u001b[0;31mNameError\u001b[0m                                 Traceback (most recent call last)",
            "\u001b[0;32m<ipython-input-3-db603c2f9924>\u001b[0m in \u001b[0;36m<cell line: 5>\u001b[0;34m()\u001b[0m\n\u001b[1;32m      3\u001b[0m \u001b[0;31m#goal state matrix\u001b[0m\u001b[0;34m\u001b[0m\u001b[0;34m\u001b[0m\u001b[0m\n\u001b[1;32m      4\u001b[0m \u001b[0mgoal_state_matrix\u001b[0m \u001b[0;34m=\u001b[0m \u001b[0;34m[\u001b[0m\u001b[0;34m[\u001b[0m\u001b[0;36m1\u001b[0m\u001b[0;34m,\u001b[0m \u001b[0;36m2\u001b[0m\u001b[0;34m,\u001b[0m \u001b[0;36m3\u001b[0m\u001b[0;34m]\u001b[0m\u001b[0;34m,\u001b[0m \u001b[0;34m[\u001b[0m\u001b[0;36m4\u001b[0m\u001b[0;34m,\u001b[0m \u001b[0;36m5\u001b[0m\u001b[0;34m,\u001b[0m \u001b[0;36m6\u001b[0m\u001b[0;34m]\u001b[0m\u001b[0;34m,\u001b[0m \u001b[0;34m[\u001b[0m\u001b[0;36m7\u001b[0m\u001b[0;34m,\u001b[0m \u001b[0;36m8\u001b[0m\u001b[0;34m,\u001b[0m \u001b[0;36m0\u001b[0m\u001b[0;34m]\u001b[0m\u001b[0;34m]\u001b[0m\u001b[0;34m\u001b[0m\u001b[0;34m\u001b[0m\u001b[0m\n\u001b[0;32m----> 5\u001b[0;31m \u001b[0ma_star_heuristic_manhattan_distance\u001b[0m\u001b[0;34m(\u001b[0m\u001b[0minitial_state_matrix\u001b[0m\u001b[0;34m,\u001b[0m \u001b[0mgoal_state_matrix\u001b[0m\u001b[0;34m)\u001b[0m\u001b[0;34m\u001b[0m\u001b[0;34m\u001b[0m\u001b[0m\n\u001b[0m",
            "\u001b[0;32m<ipython-input-1-75a0ffb45336>\u001b[0m in \u001b[0;36ma_star_heuristic_manhattan_distance\u001b[0;34m(current_state, target_state)\u001b[0m\n\u001b[1;32m      4\u001b[0m \u001b[0;34m\u001b[0m\u001b[0m\n\u001b[1;32m      5\u001b[0m     \u001b[0;32mfor\u001b[0m \u001b[0mrow\u001b[0m \u001b[0;32min\u001b[0m \u001b[0mrange\u001b[0m\u001b[0;34m(\u001b[0m\u001b[0mlen\u001b[0m\u001b[0;34m(\u001b[0m\u001b[0mcurrent_state\u001b[0m\u001b[0;34m)\u001b[0m\u001b[0;34m)\u001b[0m\u001b[0;34m:\u001b[0m\u001b[0;34m\u001b[0m\u001b[0;34m\u001b[0m\u001b[0m\n\u001b[0;32m----> 6\u001b[0;31m         \u001b[0;32mfor\u001b[0m \u001b[0mcol\u001b[0m \u001b[0;32min\u001b[0m \u001b[0mrange\u001b[0m\u001b[0;34m(\u001b[0m\u001b[0mlen\u001b[0m\u001b[0;34m(\u001b[0m\u001b[0mstate\u001b[0m\u001b[0;34m[\u001b[0m\u001b[0mrow\u001b[0m\u001b[0;34m]\u001b[0m\u001b[0;34m)\u001b[0m\u001b[0;34m)\u001b[0m\u001b[0;34m:\u001b[0m\u001b[0;34m\u001b[0m\u001b[0;34m\u001b[0m\u001b[0m\n\u001b[0m\u001b[1;32m      7\u001b[0m             \u001b[0mtile_value\u001b[0m \u001b[0;34m=\u001b[0m \u001b[0mstate\u001b[0m\u001b[0;34m[\u001b[0m\u001b[0mrow\u001b[0m\u001b[0;34m]\u001b[0m\u001b[0;34m[\u001b[0m\u001b[0mcol\u001b[0m\u001b[0;34m]\u001b[0m\u001b[0;34m\u001b[0m\u001b[0;34m\u001b[0m\u001b[0m\n\u001b[1;32m      8\u001b[0m          \u001b[0;31m#only calculate the Manhattan distance for non zero tiles\u001b[0m\u001b[0;34m\u001b[0m\u001b[0;34m\u001b[0m\u001b[0m\n",
            "\u001b[0;31mNameError\u001b[0m: name 'state' is not defined"
          ]
        }
      ]
    },
    {
      "cell_type": "code",
      "source": [],
      "metadata": {
        "id": "qctNo3k4ktgn"
      },
      "execution_count": null,
      "outputs": []
    }
  ]
}