{
  "nbformat": 4,
  "nbformat_minor": 0,
  "metadata": {
    "colab": {
      "provenance": []
    },
    "kernelspec": {
      "name": "python3",
      "display_name": "Python 3"
    },
    "language_info": {
      "name": "python"
    }
  },
  "cells": [
    {
      "cell_type": "code",
      "execution_count": null,
      "metadata": {
        "id": "9tkj9eUwixWi",
        "colab": {
          "base_uri": "https://localhost:8080/",
          "height": 105
        },
        "outputId": "686ab920-5aa9-4aec-f2d7-6c4d62504768"
      },
      "outputs": [
        {
          "output_type": "error",
          "ename": "IndentationError",
          "evalue": "unexpected indent (<ipython-input-4-7b9cff573393>, line 46)",
          "traceback": [
            "\u001b[0;36m  File \u001b[0;32m\"<ipython-input-4-7b9cff573393>\"\u001b[0;36m, line \u001b[0;32m46\u001b[0m\n\u001b[0;31m    primacy_sequence = []\u001b[0m\n\u001b[0m    ^\u001b[0m\n\u001b[0;31mIndentationError\u001b[0m\u001b[0;31m:\u001b[0m unexpected indent\n"
          ]
        }
      ],
      "source": [
        "import heapq as hq\n",
        "import time\n",
        "import copy\n",
        "#The manhattan distance measures the total number of horizontal and vertical move to correct position in the goal state.\n",
        "def a_star_heuristic_manhattan_distance(current_state, target_state):\n",
        "    total_manhattan_tiles_distance = 0\n",
        "    for row in range(len(current_state)):\n",
        "        for col in range(len(current_state[row])):\n",
        "            tile_value = current_state[row][col]\n",
        "         #calculate the manhattan distance for only the  non zero tiles\n",
        "            if tile_value != target_state[row][col] and tile_value != 0:\n",
        "                target_tile_position = [0, 0]\n",
        "                for row_index in range(len(target_state)):\n",
        "                    if tile_value in target_state[row_index]:\n",
        "                        target_tile_position[0] = row_index\n",
        "                        target_tile_position[1] = target_state[row_index].index(tile_value)\n",
        "                        break\n",
        "\n",
        "                # manhattan distance between the current tile position and its target tile position\n",
        "                distance = abs(row - target_tile_position[0]) + abs(col - target_tile_position[1] )\n",
        "                total_manhattan_tiles_distance += distance\n",
        "\n",
        "    return total_manhattan_tiles_distance\n",
        "\n",
        "# The misplaced tiles hruristic counts the numbe of tiles that are not in their correct position when compared to the goal state\n",
        "def a_star_heuristic_misplaced_tiles(current_state, target_state):\n",
        "    total_misplaced_tiles_distance = 0\n",
        "\n",
        "    for row_index, row in enumerate(current_state):\n",
        "        for col_index, tile in enumerate(row):\n",
        "            if tile == 0:\n",
        "                continue\n",
        "\n",
        "            if tile != target_state[row_index][col_index]:\n",
        "                total_misplaced_tiles_distance += 1\n",
        "\n",
        "    return total_misplaced_tiles_distance\n",
        "\n",
        "#dimension check of the parent and next state array\n",
        "def verify_states(next_state, parent_state):\n",
        "    # Check if the next state and parent state are of same dimensions\n",
        "    if len(next_state) != len(parent_state) or len(next_state[0]) != len(parent_state[0]):\n",
        "        return False\n",
        "    for row in range(len(next_state)):\n",
        "        for col in range(len(next_state[0])):\n",
        "            if next_state[row][col] != parent_state[row][col]:\n",
        "                return False\n",
        "    return True\n",
        "class Swathi_8_puzzle:\n",
        "# attributes\n",
        "   # parent(swthi_8_puzzel: Parent Node, matchlessif Root\n",
        "   # state(list): State of the Node\n",
        "   # path_cost(int): Overall cost of Start node to the this node\n",
        "   # estimate_cost(int): Estimated cost from goal node\n",
        "   # children(list): List of the child nodes.\n",
        "\n",
        "    def _init_(self, parent=None, state=None, path_state_cost=0, estimate_state_cost=0):\n",
        "            self.parent = parent\n",
        "            self.path_state_cost = path_state_cost\n",
        "            self.estimate_state_cost = estimate_state_cost\n",
        "            self.state = state\n",
        "            self.child_nodes = []\n",
        "\n",
        "    def _lt_self, another):\n",
        "        return (self.path_state_cost + self.estimate_state_cost) < (another.path_state_cost + another.estimate_state_cost)\n",
        "\n",
        "    def _eq_(self, another):\n",
        "        return self.state == another.state\n",
        "\n",
        "    def childAdd(self, node, expand_cost=1):\n",
        "        #add the node as a child of the node, by setting path cost depending on the mov cost\n",
        "        node.path_state_cost = self.path_state_cost + expand_cost\n",
        "        node.parent = self\n",
        "        self.child_nodes.append(node)\n",
        "\n",
        "    def generate_children(self):\n",
        "      #create all possible chilren nodes\n",
        "        row_idx , col_idx= None, None\n",
        "        for row in range(len(self.state)):\n",
        "            for col in range(len(self.state)):\n",
        "              if self.state[row][col]==0:\n",
        "                row_idx,col_idx= row,col\n",
        "                break\n",
        "              if row is not None:\n",
        "                break\n",
        "\n",
        "              len_state= len(self.state)\n",
        "              return_state=[]\n",
        "              return return_state\n",
        "        indices = [(row, col) for row in range(len(self.state)) for col in range(len(self.state[row])) if self.state[row][col] == 0]\n",
        "        row_idx, col_idx = indices[0] if indices else (None, None)\n",
        "        len_state = len(self.state)\n",
        "        return_state = []\n",
        "\n",
        "\n"
      ]
    }
  ]
}